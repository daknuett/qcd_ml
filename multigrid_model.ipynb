{
 "cells": [
  {
   "cell_type": "code",
   "execution_count": 3,
   "id": "b3d36cfb-76b7-4acc-af74-09c36daa9913",
   "metadata": {},
   "outputs": [],
   "source": [
    "import torch\n",
    "import numpy as np\n",
    "import os\n",
    "import gpt as g\n",
    "import matplotlib.pyplot as plt\n",
    "\n",
    "import sys\n",
    "sys.path.append(\"src/\")\n",
    "from qcd_ml.dirac import dirac_wilson_clover\n",
    "from qcd_ml.nn.lptc import v_LPTC_NG\n",
    "from qcd_ml.nn.ptc import v_PTC\n",
    "from qcd_ml.dirac import dirac_wilson_clover\n",
    "\n",
    "from stuff import *"
   ]
  },
  {
   "cell_type": "code",
   "execution_count": 2,
   "id": "d3b9a510-4184-4730-8765-292e6b769342",
   "metadata": {},
   "outputs": [],
   "source": [
    "class Smoother_PTC(torch.nn.Module):\n",
    "    def __init__(self, U):\n",
    "        super().__init__()\n",
    "        self.U = U\n",
    "        self.paths = [[]] + [[(mu, 1)] for mu in range(4)] + [[(mu, -1)] for mu in range(4)]\n",
    "        self.l0 = v_PTC(2, 2, self.paths, self.U)\n",
    "        self.l1 = v_PTC(2, 2, self.paths, self.U)\n",
    "        self.l2 = v_PTC(2, 2, self.paths, self.U)\n",
    "        self.l3 = v_PTC(2, 1, self.paths, self.U)\n",
    "\n",
    "    def forward(self, v):\n",
    "        for l in [self.l0, self.l1, self.l2, self.l3]:\n",
    "            v = l.forward(v)\n",
    "        return v"
   ]
  },
  {
   "cell_type": "code",
   "execution_count": 4,
   "id": "12ed11d3-9666-435e-97ad-80beee23add9",
   "metadata": {},
   "outputs": [],
   "source": [
    "class Multigrid_model(torch.nn.Module):\n",
    "    def __init__(self, U, mg_setup):\n",
    "        self.mg_setup = tuple(mg_setup)\n",
    "        self.coarse_model = v_LPTC_NG\n",
    "        self.smoother = Smoother_PTC(U)\n",
    "\n",
    "    def forward(self, v):\n",
    "        v1 = v\n",
    "        v2 = torch.clone(v)\n",
    "        v2_c = v_project(*self.mg_setup, v2)\n",
    "        v2_c = self.coarse_model.forward(v2_c)\n",
    "        v2 = v_prolong(*self.mg_setup, v2_c)\n",
    "        return self.smoother.forward(v1, v2)"
   ]
  },
  {
   "cell_type": "code",
   "execution_count": 5,
   "id": "7516d02b-96d9-4127-962a-fda90b007658",
   "metadata": {},
   "outputs": [],
   "source": [
    "mg_setup = torch.load(\"mg_setup.pt\")\n",
    "smoother_weights = torch.load(\"smoother_start_id.pt\")\n",
    "coarse_weights = torch.load(\"coarse.pt\")"
   ]
  },
  {
   "cell_type": "code",
   "execution_count": null,
   "id": "a73629ee-e48b-446f-8684-83bfdf4d7d47",
   "metadata": {},
   "outputs": [],
   "source": [
    "vec = torch.complex(\n",
    "        torch.randn(8, 8, 8, 16, 4, 3, dtype=torch.double)\n",
    "        , torch.randn(8, 8, 8, 16, 4, 3, dtype=torch.double))\n",
    "\n",
    "U = torch.tensor(np.load(os.path.join(\"test\", \"assets\",\"1500.config.npy\")))"
   ]
  }
 ],
 "metadata": {
  "kernelspec": {
   "display_name": "Python 3 (ipykernel)",
   "language": "python",
   "name": "python3"
  },
  "language_info": {
   "codemirror_mode": {
    "name": "ipython",
    "version": 3
   },
   "file_extension": ".py",
   "mimetype": "text/x-python",
   "name": "python",
   "nbconvert_exporter": "python",
   "pygments_lexer": "ipython3",
   "version": "3.12.3"
  }
 },
 "nbformat": 4,
 "nbformat_minor": 5
}

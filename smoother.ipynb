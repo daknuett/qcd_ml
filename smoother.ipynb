{
 "cells": [
  {
   "cell_type": "code",
   "execution_count": 21,
   "id": "140cafd1-f50a-4899-8567-0be2735137bb",
   "metadata": {},
   "outputs": [
    {
     "name": "stdout",
     "output_type": "stream",
     "text": [
      "SharedMemoryMpi:  World communicator of size 1\n",
      "SharedMemoryMpi:  Node  communicator of size 1\n",
      "SharedMemoryMpi: SharedMemoryAllocate 1073741824 MMAP anonymous implementation \n",
      "\n",
      "__|__|__|__|__|__|__|__|__|__|__|__|__|__|__\n",
      "__|__|__|__|__|__|__|__|__|__|__|__|__|__|__\n",
      "__|_ |  |  |  |  |  |  |  |  |  |  |  | _|__\n",
      "__|_                                    _|__\n",
      "__|_   GGGG    RRRR    III    DDDD      _|__\n",
      "__|_  G        R   R    I     D   D     _|__\n",
      "__|_  G        R   R    I     D    D    _|__\n",
      "__|_  G  GG    RRRR     I     D    D    _|__\n",
      "__|_  G   G    R  R     I     D   D     _|__\n",
      "__|_   GGGG    R   R   III    DDDD      _|__\n",
      "__|_                                    _|__\n",
      "__|__|__|__|__|__|__|__|__|__|__|__|__|__|__\n",
      "__|__|__|__|__|__|__|__|__|__|__|__|__|__|__\n",
      "  |  |  |  |  |  |  |  |  |  |  |  |  |  |  \n",
      "\n",
      "\n",
      "Copyright (C) 2015 Peter Boyle, Azusa Yamaguchi, Guido Cossu, Antonin Portelli and other authors\n",
      "\n",
      "This program is free software; you can redistribute it and/or modify\n",
      "it under the terms of the GNU General Public License as published by\n",
      "the Free Software Foundation; either version 2 of the License, or\n",
      "(at your option) any later version.\n",
      "\n",
      "This program is distributed in the hope that it will be useful,\n",
      "but WITHOUT ANY WARRANTY; without even the implied warranty of\n",
      "MERCHANTABILITY or FITNESS FOR A PARTICULAR PURPOSE.  See the\n",
      "GNU General Public License for more details.\n",
      "Current Grid git commit hash=9f89486df5e65c873308df23240a3b826c257d76: (HEAD -> feature/gpt, origin/feature/gpt, origin/HEAD) clean\n",
      "\n",
      "Grid : Message : ================================================ \n",
      "Grid : Message : MPI is initialised and logging filters activated \n",
      "Grid : Message : ================================================ \n",
      "Grid : Message : Requested 1073741824 byte stencil comms buffers \n",
      "Grid : Message : MemoryManager::Init() setting up\n",
      "Grid : Message : MemoryManager::Init() cache pool for recent host   allocations: SMALL 8 LARGE 2 HUGE 0\n",
      "Grid : Message : MemoryManager::Init() cache pool for recent device allocations: SMALL 16 LARGE 8 Huge 0\n",
      "Grid : Message : MemoryManager::Init() cache pool for recent shared allocations: SMALL 16 LARGE 8 Huge 0\n",
      "Grid : Message : MemoryManager::Init() Unified memory space\n",
      "\n",
      "=============================================\n",
      "              Initialized GPT                \n",
      "     Copyright (C) 2020 Christoph Lehner     \n",
      "=============================================\n"
     ]
    }
   ],
   "source": [
    "import torch\n",
    "import numpy as np\n",
    "import os\n",
    "\n",
    "import gpt as g\n",
    "import matplotlib.pyplot as plt\n",
    "\n",
    "import sys\n",
    "sys.path.append(\"src/\")\n",
    "\n",
    "from qcd_ml.nn.ptc import v_PTC\n",
    "from qcd_ml.dirac import dirac_wilson_clover"
   ]
  },
  {
   "cell_type": "code",
   "execution_count": 22,
   "id": "d112b6f8-94b8-4604-972e-d4c6fb1f5e45",
   "metadata": {},
   "outputs": [],
   "source": [
    "class Smoother_PTC(torch.nn.Module):\n",
    "    def __init__(self, U):\n",
    "        super().__init__()\n",
    "        self.U = U\n",
    "        self.paths = [[]] + [[(mu, 1)] for mu in range(4)] + [[(mu, -1)] for mu in range(4)]\n",
    "        self.l0 = v_PTC(2, 2, self.paths, self.U)\n",
    "        self.l1 = v_PTC(2, 2, self.paths, self.U)\n",
    "        self.l2 = v_PTC(2, 2, self.paths, self.U)\n",
    "        self.l3 = v_PTC(2, 1, self.paths, self.U)\n",
    "\n",
    "    def forward(self, v):\n",
    "        for l in [self.l0, self.l1, self.l2, self.l3]:\n",
    "            v = l.forward(v)\n",
    "        return v"
   ]
  },
  {
   "cell_type": "code",
   "execution_count": 23,
   "id": "3b8f5fd5-89cd-411b-9c44-f8746558eeed",
   "metadata": {},
   "outputs": [],
   "source": [
    "vec = torch.complex(\n",
    "        torch.randn(8, 8, 8, 16, 4, 3, dtype=torch.double)\n",
    "        , torch.randn(8, 8, 8, 16, 4, 3, dtype=torch.double))\n",
    "\n",
    "U = torch.tensor(np.load(os.path.join(\"test\", \"assets\",\"1500.config.npy\")))\n"
   ]
  },
  {
   "cell_type": "code",
   "execution_count": 24,
   "id": "2f0697a4-6a64-48b3-ad31-41ccc3463ba3",
   "metadata": {},
   "outputs": [
    {
     "data": {
      "text/plain": [
       "torch.Size([1, 8, 8, 8, 16, 4, 3])"
      ]
     },
     "execution_count": 24,
     "metadata": {},
     "output_type": "execute_result"
    }
   ],
   "source": [
    "Smoother_PTC(U).forward(torch.stack([vec,vec])).shape"
   ]
  },
  {
   "cell_type": "code",
   "execution_count": 25,
   "id": "c7b06db7-2151-4721-a0ff-92ef07cf198e",
   "metadata": {},
   "outputs": [],
   "source": [
    "\n",
    "def complex_mse_loss(output, target):\n",
    "    err = (output - target)\n",
    "    return (err * err.conj()).real.sum()\n",
    "\n",
    "\n",
    "def l2norm(v):\n",
    "    return (v * v.conj()).real.sum()"
   ]
  },
  {
   "cell_type": "code",
   "execution_count": 33,
   "id": "4b07b188-89f3-419e-958d-c58f1354a761",
   "metadata": {},
   "outputs": [],
   "source": [
    "def lattice2ndarray(lattice):\n",
    "    \"\"\" \n",
    "    Converts a gpt (https://github.com/lehner/gpt) lattice to a numpy ndarray \n",
    "    keeping the ordering of axes as one would expect.\n",
    "    Example::\n",
    "        q_top = g.qcd.gauge.topological_charge_5LI(U_smeared, field=True)\n",
    "        plot_scalar_field(lattice2ndarray(q_top))\n",
    "    \"\"\"\n",
    "    shape = lattice.grid.fdimensions\n",
    "    shape = list(reversed(shape))\n",
    "    if lattice[:].shape[1:] != (1,):\n",
    "        shape.extend(lattice[:].shape[1:])\n",
    "   \n",
    "    result = lattice[:].reshape(shape)\n",
    "    result = np.swapaxes(result, 0, 3)\n",
    "    result = np.swapaxes(result, 1, 2)\n",
    "    return result\n",
    "\n",
    "def ndarray2lattice(ndarray, grid, lat_constructor):\n",
    "    \"\"\"\n",
    "    Converts an ndarray to a gpt lattice, it is the inverse \n",
    "    of lattice2ndarray.\n",
    "\n",
    "    Example::\n",
    "        lat = ndarray2lattice(arr, g.grid([4,4,4,8], g.double), g.vspincolor)\n",
    "    \"\"\"\n",
    "    lat = lat_constructor(grid)\n",
    "    data = np.swapaxes(ndarray, 0, 3)\n",
    "    data = np.swapaxes(data, 1, 2)\n",
    "    lat[:] = data.reshape([data.shape[0] * data.shape[1] * data.shape[2] * data.shape[3]] + list(data.shape[4:]))\n",
    "    return lat"
   ]
  },
  {
   "cell_type": "code",
   "execution_count": 34,
   "id": "18c33956-1495-4b54-96ba-a81e26938b9e",
   "metadata": {},
   "outputs": [
    {
     "name": "stdout",
     "output_type": "stream",
     "text": [
      "GPT :      77.184810 s : Reading /home/knd35666/data/ensembles/ens_001/1500.config/\n",
      "GPT :      77.194076 s : Switching view to [1,1,1,1]/Read\n",
      "GPT :      77.221758 s : Read 0.00109863 GB at 0.0395835 GB/s (0.357348 GB/s for distribution, 0.0445269 GB/s for reading + checksum, 3.23368 GB/s for checksum, 1 views per node)\n",
      "GPT :      77.234361 s : Read 0.00109863 GB at 0.0915448 GB/s (2.78429 GB/s for distribution, 0.0946823 GB/s for reading + checksum, 2.94441 GB/s for checksum, 1 views per node)\n",
      "GPT :      77.246972 s : Read 0.00109863 GB at 0.0904221 GB/s (4.05991 GB/s for distribution, 0.0925041 GB/s for reading + checksum, 3.54462 GB/s for checksum, 1 views per node)\n",
      "GPT :      77.258526 s : Read 0.00109863 GB at 0.0985837 GB/s (4.13274 GB/s for distribution, 0.101019 GB/s for reading + checksum, 3.92839 GB/s for checksum, 1 views per node)\n",
      "GPT :      77.259798 s : Completed reading /home/knd35666/data/ensembles/ens_001/1500.config/ in 0.076699 s\n"
     ]
    }
   ],
   "source": [
    "weights_ptc1h1l = torch.load(\"ptc1h1l_start_id.pt\")[0]\n",
    "\n",
    "U_gpt = g.load(\"/home/knd35666/data/ensembles/ens_001/1500.config/\")\n",
    "w_gpt = g.qcd.fermion.wilson_clover(U_gpt, {\"mass\": -0.55,\n",
    "    \"csw_r\": 0.0,\n",
    "    \"csw_t\": 0.0,\n",
    "    \"xi_0\": 1.0,\n",
    "    \"nu\": 1.0,\n",
    "    \"isAnisotropic\": False,\n",
    "    \"boundary_phases\": [1,1,1,1]})\n",
    "\n",
    "w = lambda x: torch.tensor(lattice2ndarray(w_gpt(ndarray2lattice(x.numpy(), U_gpt[0].grid, g.vspincolor))))\n"
   ]
  },
  {
   "cell_type": "code",
   "execution_count": 35,
   "id": "6e2086a4-9296-48d1-863d-62c7fb08ec48",
   "metadata": {},
   "outputs": [],
   "source": [
    "paths = [[]] + [[(mu, 1)] for mu in range(4)] + [[(mu, -1)] for mu in range(4)]\n",
    "ptc_layer = v_PTC(1, 1, paths, U)\n",
    "ptc_layer.weights = torch.nn.Parameter(weights_ptc1h1l, requires_grad=False)\n"
   ]
  },
  {
   "cell_type": "code",
   "execution_count": 36,
   "id": "01b579a7-34b5-40c6-8f1d-68970eaeaf5c",
   "metadata": {},
   "outputs": [],
   "source": [
    "def iterative_uk(ukm1, b, Mh, D):\n",
    "    result = b\n",
    "    result = result - D(ukm1)\n",
    "    result = Mh(result)\n",
    "    result = ukm1 + result\n",
    "    return result\n",
    "\n",
    "def ukn(b, Mh, D, n):\n",
    "    uk = torch.zeros_like(b)\n",
    "    \n",
    "    for k in range(n):\n",
    "        uk = iterative_uk(uk, b, Mh, D)\n",
    "    return uk\n"
   ]
  },
  {
   "cell_type": "code",
   "execution_count": null,
   "id": "2d63af17-83a4-44a8-8e52-14f307fc4755",
   "metadata": {},
   "outputs": [],
   "source": []
  },
  {
   "cell_type": "code",
   "execution_count": 37,
   "id": "1d87758b-72fc-4631-995a-1cd4cf9f1c60",
   "metadata": {},
   "outputs": [],
   "source": [
    "layer = Smoother_PTC(U)"
   ]
  },
  {
   "cell_type": "code",
   "execution_count": 38,
   "id": "eb56165e-49f3-4337-9963-659f390fd7fc",
   "metadata": {},
   "outputs": [],
   "source": [
    "idty = torch.complex(torch.tensor(np.array([[1, 0, 0, 0], [0, 1, 0, 0], [0, 0, 1, 0], [0, 0, 0, 1]]), dtype=torch.double)\n",
    "                     , torch.zeros((4,4), dtype=torch.double))\n",
    "zeros = torch.complex(torch.zeros((4,4), dtype=torch.double)\n",
    "                     , torch.zeros((4,4), dtype=torch.double))\n",
    "\n",
    "for li in (layer.l0, layer.l1, layer.l2, layer.l3):\n",
    "    li.weights.data[:,:,:] = zeros\n",
    "    li.weights.data[:,:,0] = idty"
   ]
  },
  {
   "cell_type": "code",
   "execution_count": 39,
   "id": "1c29829e-73c7-4b79-8cbd-e9ac351a10c5",
   "metadata": {},
   "outputs": [],
   "source": [
    "def GMRES_torch(A, b, x0, maxiter=1000, eps=1e-4\n",
    "              , innerproduct=None\n",
    "              , prec=None):\n",
    "    \"\"\"\n",
    "    GMRES solver.\n",
    "    \n",
    "    innerproduct is a function (vec,vec)->scalar which is a product.\n",
    "    prec is a function vec->vec.\n",
    "\n",
    "    Literature:\n",
    "    - https://en.wikipedia.org/wiki/Generalized_minimal_residual_method\n",
    "    - https://www-users.cse.umn.edu/~saad/Calais/PREC.pdf\n",
    "\n",
    "    Authors:\n",
    "    - Daniel Knüttel 2024\n",
    "    \"\"\"\n",
    "    if hasattr(A, \"__call__\"):\n",
    "        apply_A = lambda x: A(x)\n",
    "    else:\n",
    "        apply_A = lambda x: A @ x\n",
    "\n",
    "    if innerproduct is None:\n",
    "        innerproduct = lambda x,y: (x.conj() * y).sum()\n",
    "\n",
    "    \n",
    "    rk = b - apply_A(x0)\n",
    "\n",
    "    b_norm = np.sqrt(innerproduct(b, b).real)\n",
    "    \n",
    "    rk_norm = np.sqrt(innerproduct(rk, rk).real)\n",
    "    if rk_norm <= eps:\n",
    "        return x0, {\"converged\": True, \"k\": 0}\n",
    "\n",
    "    vk = rk / rk_norm\n",
    "\n",
    "    v = [None, vk]\n",
    "    \n",
    "    cs = np.zeros(maxiter + 2, np.complex128)\n",
    "    sn = np.zeros(maxiter + 2, np.complex128)\n",
    "    gamma = np.zeros(maxiter + 2, np.complex128)\n",
    "    gamma[1] = rk_norm\n",
    "    H = [None]\n",
    "    \n",
    "    converged = False\n",
    "    for k in range(1, maxiter + 1):\n",
    "        if prec is not None:\n",
    "            z = prec(v[k])\n",
    "        else:\n",
    "            z = v[k]\n",
    "        qk = apply_A(z)\n",
    "        \n",
    "        Hk = np.zeros(k + 2, np.complex128)\n",
    "        for i in range(1, k + 1):\n",
    "            Hk[i] = innerproduct(v[i], qk)\n",
    "        for i in range(1, k + 1):\n",
    "            qk -= Hk[i] * v[i]\n",
    "            \n",
    "        Hk[k+1] = np.sqrt(innerproduct(qk, qk).real)\n",
    "        v.append(qk / Hk[k+1])\n",
    "\n",
    "        for i in range(1, k):\n",
    "            # (c   s ) [a]   [a']\n",
    "            # (-s* c*) [b] = [b']\n",
    "            tmp = cs[i+1] * Hk[i] + sn[i+1] * Hk[i+1]\n",
    "            Hk[i+1] = -np.conj(sn[i+1]) * Hk[i] + np.conj(cs[i+1]) * Hk[i+1]\n",
    "            Hk[i] = tmp\n",
    "            \n",
    "\n",
    "        beta = np.sqrt(np.abs(Hk[k])**2 + np.abs(Hk[k + 1])**2)\n",
    "\n",
    "        # ( c    s )[a]   [X]\n",
    "        # (-s*   c*)[b] = [0]\n",
    "        # is solved by \n",
    "        # s* = b; c* = a\n",
    "        sn[k+1] = np.conj(Hk[k+1]) / beta\n",
    "        cs[k+1] = np.conj(Hk[k]) / beta\n",
    "        Hk[k] = cs[k+1] * Hk[k] + sn[k+1] * Hk[k+1]\n",
    "        Hk[k+1] = 0\n",
    "        \n",
    "        \n",
    "        gamma[k+1] = -np.conj(sn[k+1]) * gamma[k]\n",
    "        gamma[k] = cs[k+1] * gamma[k]\n",
    "        \n",
    "        H.append(Hk)\n",
    "        if np.abs(gamma[k+1]) / b_norm <= eps:\n",
    "            converged = True\n",
    "            break\n",
    "\n",
    "    y = np.zeros(k+1, np.complex128)\n",
    "    for i in reversed(range(1, k + 1)):\n",
    "        overlap = 0\n",
    "        for j in range(i+1, k+1):\n",
    "            overlap += H[j][i] * y[j]\n",
    "        y[i] = (gamma[i] - overlap) / H[i][i]\n",
    "    if prec is None:\n",
    "        x = x0 + sum(yi * vi for yi, vi in zip(y[1:], v[1:]))\n",
    "    else:\n",
    "        x = x0 + sum(yi * prec(vi) for yi, vi in zip(y[1:], v[1:]))\n",
    "    return x, {\"converged\": converged, \"k\": k}"
   ]
  },
  {
   "cell_type": "code",
   "execution_count": 41,
   "id": "65be9176-92f5-4fb3-944c-79e39e9ab1e1",
   "metadata": {},
   "outputs": [
    {
     "data": {
      "text/plain": [
       "{'converged': True, 'k': 92}"
      ]
     },
     "execution_count": 41,
     "metadata": {},
     "output_type": "execute_result"
    }
   ],
   "source": [
    "vec = torch.complex(\n",
    "            torch.randn(8, 8, 8, 16, 4, 3, dtype=torch.double)\n",
    "            , torch.randn(8, 8, 8, 16, 4, 3, dtype=torch.double))\n",
    "\n",
    "x, ret = GMRES_torch(w, vec, vec, eps=1e-6, maxiter=500)\n",
    "ret"
   ]
  },
  {
   "cell_type": "code",
   "execution_count": 42,
   "id": "73053c10-1eee-4831-be4e-960a9fd36a39",
   "metadata": {},
   "outputs": [
    {
     "name": "stdout",
     "output_type": "stream",
     "text": [
      "T [ 1000|100.00%] <1.822e-08|   27>\r"
     ]
    },
    {
     "ename": "IndexError",
     "evalue": "index 1000 is out of bounds for axis 0 with size 1000",
     "output_type": "error",
     "traceback": [
      "\u001b[0;31m---------------------------------------------------------------------------\u001b[0m",
      "\u001b[0;31mIndexError\u001b[0m                                Traceback (most recent call last)",
      "Cell \u001b[0;32mIn[42], line 29\u001b[0m\n\u001b[1;32m     27\u001b[0m score \u001b[38;5;241m=\u001b[39m complex_mse_loss(layer\u001b[38;5;241m.\u001b[39mforward(inp), outp)\n\u001b[1;32m     28\u001b[0m \u001b[38;5;28mprint\u001b[39m(\u001b[38;5;124mf\u001b[39m\u001b[38;5;124m\"\u001b[39m\u001b[38;5;124mT [\u001b[39m\u001b[38;5;132;01m{\u001b[39;00mt\u001b[38;5;132;01m:\u001b[39;00m\u001b[38;5;124m5d\u001b[39m\u001b[38;5;132;01m}\u001b[39;00m\u001b[38;5;124m|\u001b[39m\u001b[38;5;132;01m{\u001b[39;00mt\u001b[38;5;250m \u001b[39m\u001b[38;5;241m/\u001b[39m\u001b[38;5;250m \u001b[39mn_training\u001b[38;5;250m \u001b[39m\u001b[38;5;241m*\u001b[39m\u001b[38;5;250m \u001b[39m\u001b[38;5;241m100\u001b[39m\u001b[38;5;132;01m:\u001b[39;00m\u001b[38;5;124m6.2f\u001b[39m\u001b[38;5;132;01m}\u001b[39;00m\u001b[38;5;124m%] <\u001b[39m\u001b[38;5;132;01m{\u001b[39;00mscore\u001b[38;5;241m.\u001b[39mitem()\u001b[38;5;132;01m:\u001b[39;00m\u001b[38;5;124m.3e\u001b[39m\u001b[38;5;132;01m}\u001b[39;00m\u001b[38;5;124m|\u001b[39m\u001b[38;5;132;01m{\u001b[39;00mret_p[\u001b[38;5;124m'\u001b[39m\u001b[38;5;124mk\u001b[39m\u001b[38;5;124m'\u001b[39m]\u001b[38;5;132;01m:\u001b[39;00m\u001b[38;5;124m5d\u001b[39m\u001b[38;5;132;01m}\u001b[39;00m\u001b[38;5;124m>\u001b[39m\u001b[38;5;124m\"\u001b[39m, end\u001b[38;5;241m=\u001b[39m\u001b[38;5;124m\"\u001b[39m\u001b[38;5;130;01m\\r\u001b[39;00m\u001b[38;5;124m\"\u001b[39m)\n\u001b[0;32m---> 29\u001b[0m \u001b[43mloss\u001b[49m\u001b[43m[\u001b[49m\u001b[43mt\u001b[49m\u001b[43m]\u001b[49m \u001b[38;5;241m=\u001b[39m score\u001b[38;5;241m.\u001b[39mitem()\n\u001b[1;32m     30\u001b[0m optimizer\u001b[38;5;241m.\u001b[39mzero_grad()\n\u001b[1;32m     31\u001b[0m score\u001b[38;5;241m.\u001b[39mbackward()\n",
      "\u001b[0;31mIndexError\u001b[0m: index 1000 is out of bounds for axis 0 with size 1000"
     ]
    }
   ],
   "source": [
    "optimizer = torch.optim.Adam(layer.parameters(), lr=1e-2)\n",
    "zero = torch.zeros_like(vec)\n",
    "\n",
    "n_training = 1000\n",
    "check_every = 10\n",
    "\n",
    "loss = np.zeros(n_training)\n",
    "iterations_p = np.zeros(n_training // check_every)\n",
    "ret_p = {\"k\": -1}\n",
    "\n",
    "for t in range(1, n_training+1):\n",
    "    vec = torch.complex(\n",
    "            torch.randn(8, 8, 8, 16, 4, 3, dtype=torch.double)\n",
    "            , torch.randn(8, 8, 8, 16, 4, 3, dtype=torch.double))\n",
    "\n",
    "    outp = torch.stack([\n",
    "        ukn(vec, lambda x: ptc_layer.forward(torch.stack([x]))[0], w, 0+2)\n",
    "    ])\n",
    "    inp = torch.stack([\n",
    "        vec, ukn(vec, lambda x: ptc_layer.forward(torch.stack([x]))[0], w, 0+0)\n",
    "    ])\n",
    "\n",
    "    scale = l2norm(inp[0])\n",
    "    inp = inp / scale\n",
    "    outp = outp / scale\n",
    "    \n",
    "    score = complex_mse_loss(layer.forward(inp), outp)\n",
    "    print(f\"T [{t:5d}|{t / n_training * 100:6.2f}%] <{score.item():.3e}|{ret_p['k']:5d}>\", end=\"\\r\")\n",
    "    loss[t-1] = score.item()\n",
    "    optimizer.zero_grad()\n",
    "    score.backward()\n",
    "    optimizer.step()\n",
    "    if t % check_every == 0:\n",
    "        print(f\"G [{t:5d}|{t / n_training * 100:6.2f}%] <{score.item():.3e}|{ret_p['k']:5d}>\", end=\"\\r\")\n",
    "        with torch.no_grad():\n",
    "            x_p, ret_p = GMRES_torch(w, vec, vec, prec=lambda v: layer.forward(torch.stack([v, vec]))[0], eps=1e-4, maxiter=500)\n",
    "    \n",
    "        iterations_p[t // check_every - 1] = ret_p[\"k\"]\n",
    "    print(f\"  [{t:5d}|{t / n_training * 100:6.2f}%] <{score.item():.3e}|{ret_p['k']:5d}>\", end=\"\\r\")\n",
    "    \n",
    "print()\n",
    "plt.plot(loss)\n",
    "plt.yscale(\"log\")"
   ]
  },
  {
   "cell_type": "code",
   "execution_count": 43,
   "id": "5f198551-19bb-4225-9c32-1fb0ea1fa38b",
   "metadata": {},
   "outputs": [
    {
     "data": {
      "text/plain": [
       "Text(0, 0.5, 'iterations required by GMRES')"
      ]
     },
     "execution_count": 43,
     "metadata": {},
     "output_type": "execute_result"
    },
    {
     "data": {
      "image/png": "[encoded data removed]",
      "text/plain": [
       "<Figure size 640x480 with 2 Axes>"
      ]
     },
     "metadata": {},
     "output_type": "display_data"
    }
   ],
   "source": [
    "plt.plot(loss, \".\")\n",
    "plt.title(\"smoother, start from Id\")\n",
    "plt.yscale(\"log\")\n",
    "plt.ylabel(\"cost\")\n",
    "plt.xlabel(\"training vector no.\")\n",
    "ax = plt.gca().twinx()\n",
    "ax.plot(np.arange(0, n_training, check_every), iterations_p, \"C1.\")\n",
    "ax.set_ylabel(\"iterations required by GMRES\")"
   ]
  },
  {
   "cell_type": "code",
   "execution_count": null,
   "id": "08e77273-ecb9-437c-83ff-51c215b54e6f",
   "metadata": {},
   "outputs": [],
   "source": [
    "zero = torch.zeros_like(vec)\n",
    "with torch.no_grad():\n",
    "    x_p, ret_p = GMRES_torch(w, vec, vec, prec=lambda v: layer.forward(torch.stack([v, zero]))[0], eps=1e-6)"
   ]
  },
  {
   "cell_type": "code",
   "execution_count": 44,
   "id": "150f6234-de02-4019-8c15-e9435918552f",
   "metadata": {},
   "outputs": [
    {
     "data": {
      "text/plain": [
       "(92, 27)"
      ]
     },
     "execution_count": 44,
     "metadata": {},
     "output_type": "execute_result"
    }
   ],
   "source": [
    "ret[\"k\"], ret_p[\"k\"]"
   ]
  },
  {
   "cell_type": "code",
   "execution_count": 45,
   "id": "5faf0b00-8689-4fe5-9a0e-eb814e497a78",
   "metadata": {},
   "outputs": [],
   "source": [
    "torch.save(list(layer.parameters()), \"smoother_start_id.pt\")\n"
   ]
  },
  {
   "cell_type": "code",
   "execution_count": null,
   "id": "c4c7690d-f7ee-4bbd-a23b-3d306e7673aa",
   "metadata": {},
   "outputs": [],
   "source": []
  }
 ],
 "metadata": {
  "kernelspec": {
   "display_name": "Python 3 (ipykernel)",
   "language": "python",
   "name": "python3"
  },
  "language_info": {
   "codemirror_mode": {
    "name": "ipython",
    "version": 3
   },
   "file_extension": ".py",
   "mimetype": "text/x-python",
   "name": "python",
   "nbconvert_exporter": "python",
   "pygments_lexer": "ipython3",
   "version": "3.12.3"
  }
 },
 "nbformat": 4,
 "nbformat_minor": 5
}

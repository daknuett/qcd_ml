{
 "cells": [
  {
   "cell_type": "code",
   "execution_count": 1,
   "id": "ecbc3eec-ec30-40fd-addc-fe76d1642b43",
   "metadata": {},
   "outputs": [
    {
     "name": "stderr",
     "output_type": "stream",
     "text": [
      "--------------------------------------------------------------------------\n",
      "WARNING: There is at least non-excluded one OpenFabrics device found,\n",
      "but there are no active ports detected (or Open MPI was unable to use\n",
      "them).  This is most certainly not what you wanted.  Check your\n",
      "cables, subnet manager configuration, etc.  The openib BTL will be\n",
      "ignored for this job.\n",
      "\n",
      "  Local host: pc1011901129\n",
      "--------------------------------------------------------------------------\n"
     ]
    },
    {
     "name": "stdout",
     "output_type": "stream",
     "text": [
      "SharedMemoryMpi:  World communicator of size 1\n",
      "SharedMemoryMpi:  Node  communicator of size 1\n",
      "SharedMemoryMpi: SharedMemoryAllocate 1073741824 MMAP anonymous implementation \n",
      "\n",
      "__|__|__|__|__|__|__|__|__|__|__|__|__|__|__\n",
      "__|__|__|__|__|__|__|__|__|__|__|__|__|__|__\n",
      "__|_ |  |  |  |  |  |  |  |  |  |  |  | _|__\n",
      "__|_                                    _|__\n",
      "__|_   GGGG    RRRR    III    DDDD      _|__\n",
      "__|_  G        R   R    I     D   D     _|__\n",
      "__|_  G        R   R    I     D    D    _|__\n",
      "__|_  G  GG    RRRR     I     D    D    _|__\n",
      "__|_  G   G    R  R     I     D   D     _|__\n",
      "__|_   GGGG    R   R   III    DDDD      _|__\n",
      "__|_                                    _|__\n",
      "__|__|__|__|__|__|__|__|__|__|__|__|__|__|__\n",
      "__|__|__|__|__|__|__|__|__|__|__|__|__|__|__\n",
      "  |  |  |  |  |  |  |  |  |  |  |  |  |  |  \n",
      "\n",
      "\n",
      "Copyright (C) 2015 Peter Boyle, Azusa Yamaguchi, Guido Cossu, Antonin Portelli and other authors\n",
      "\n",
      "This program is free software; you can redistribute it and/or modify\n",
      "it under the terms of the GNU General Public License as published by\n",
      "the Free Software Foundation; either version 2 of the License, or\n",
      "(at your option) any later version.\n",
      "\n",
      "This program is distributed in the hope that it will be useful,\n",
      "but WITHOUT ANY WARRANTY; without even the implied warranty of\n",
      "MERCHANTABILITY or FITNESS FOR A PARTICULAR PURPOSE.  See the\n",
      "GNU General Public License for more details.\n",
      "Current Grid git commit hash=9f89486df5e65c873308df23240a3b826c257d76: (HEAD -> feature/gpt, origin/feature/gpt, origin/HEAD) clean\n",
      "\n",
      "Grid : Message : ================================================ \n",
      "Grid : Message : MPI is initialised and logging filters activated \n",
      "Grid : Message : ================================================ \n",
      "Grid : Message : Requested 1073741824 byte stencil comms buffers \n",
      "Grid : Message : MemoryManager::Init() setting up\n",
      "Grid : Message : MemoryManager::Init() cache pool for recent host   allocations: SMALL 8 LARGE 2 HUGE 0\n",
      "Grid : Message : MemoryManager::Init() cache pool for recent device allocations: SMALL 16 LARGE 8 Huge 0\n",
      "Grid : Message : MemoryManager::Init() cache pool for recent shared allocations: SMALL 16 LARGE 8 Huge 0\n",
      "Grid : Message : MemoryManager::Init() Unified memory space\n",
      "\n",
      "=============================================\n",
      "              Initialized GPT                \n",
      "     Copyright (C) 2020 Christoph Lehner     \n",
      "=============================================\n"
     ]
    },
    {
     "name": "stderr",
     "output_type": "stream",
     "text": [
      "/home/knd35666/.local/lib/python3.12/site-packages/torch/_inductor/lowering.py:1612: UserWarning: Torchinductor does not support code generation for complex operators. Performance may be worse than eager.\n",
      "  warnings.warn(\n"
     ]
    }
   ],
   "source": [
    "import torch\n",
    "import numpy as np\n",
    "import os\n",
    "import matplotlib.pyplot as plt\n",
    "\n",
    "import sys\n",
    "sys.path.append(\"src/\")\n",
    "import gpt as g\n",
    "\n",
    "from qcd_ml.nn.ptc import v_PTC\n",
    "from qcd_ml.qcd.dirac import dirac_wilson_clover\n",
    "from qcd_ml.base.paths import PathBuffer\n",
    "\n",
    "from qcd_ml.compat.gpt import lattice2ndarray, ndarray2lattice\n",
    "\n",
    "from qcd_ml.util.solver import GMRES_restarted"
   ]
  },
  {
   "cell_type": "code",
   "execution_count": 2,
   "id": "5d622d58-a362-4a7e-aae5-5b8ad21bde06",
   "metadata": {},
   "outputs": [],
   "source": [
    "class Smoother_PTC(torch.nn.Module):\n",
    "    def __init__(self, U, r_relaxation):\n",
    "        super().__init__()\n",
    "        self.U = U\n",
    "        self.paths = [[]] + [[(mu, 1)] for mu in range(4)] + [[(mu, -1)] for mu in range(4)]\n",
    "        layers = [v_PTC(2, 2, self.paths, self.U) for _ in range(2 * (r_relaxation-1))]\n",
    "        self.layers = torch.nn.ModuleList(layers \n",
    "                                  + [\n",
    "                                        v_PTC(2, 2, self.paths, self.U)\n",
    "                                        , v_PTC(2, 1, self.paths, self.U)]\n",
    "                                 )\n",
    "\n",
    "    def forward(self, v):\n",
    "        for l in self.layers:\n",
    "            v = l.forward(v)\n",
    "        return v\n"
   ]
  },
  {
   "cell_type": "code",
   "execution_count": 3,
   "id": "c14a74e5-fe5f-415f-a06a-c0cc63782936",
   "metadata": {},
   "outputs": [
    {
     "name": "stdout",
     "output_type": "stream",
     "text": [
      "GPT :       5.792430 s : Reading /home/knd35666/data/ensembles/ens_001/1500.config/\n",
      "GPT :       5.804861 s : Switching view to [1,1,1,1]/Read\n",
      "GPT :       6.116853 s : Read 0.00109863 GB at 0.00352122 GB/s (0.00406568 GB/s for distribution, 0.0262973 GB/s for reading + checksum, 0.738107 GB/s for checksum, 1 views per node)\n",
      "GPT :       6.158830 s : Read 0.00109863 GB at 0.0265193 GB/s (0.0625051 GB/s for distribution, 0.0460694 GB/s for reading + checksum, 0.131929 GB/s for checksum, 1 views per node)\n",
      "GPT :       6.199831 s : Read 0.00109863 GB at 0.0271255 GB/s (0.0624196 GB/s for distribution, 0.0479805 GB/s for reading + checksum, 0.148243 GB/s for checksum, 1 views per node)\n",
      "GPT :       6.240829 s : Read 0.00109863 GB at 0.0271437 GB/s (0.0610388 GB/s for distribution, 0.0488876 GB/s for reading + checksum, 0.183652 GB/s for checksum, 1 views per node)\n",
      "GPT :       6.241289 s : Completed reading /home/knd35666/data/ensembles/ens_001/1500.config/ in 0.453238 s\n"
     ]
    }
   ],
   "source": [
    "\n",
    "U = torch.tensor(np.load(os.path.join(\"test\", \"assets\",\"1500.config.npy\")))\n",
    "\n",
    "vec = torch.randn(8, 8, 8, 16, 4, 3, dtype=torch.cdouble)\n",
    "\n",
    "\n",
    "w = dirac_wilson_clover(U, -0.58, 1.0)\n",
    "\n",
    "U_gpt = g.load(\"/home/knd35666/data/ensembles/ens_001/1500.config/\")\n",
    "w_gpt = g.qcd.fermion.wilson_clover(U_gpt, {\"mass\": -0.58,\n",
    "    \"csw_r\": 1.0,\n",
    "    \"csw_t\": 1.0,\n",
    "    \"xi_0\": 1.0,\n",
    "    \"nu\": 1.0,\n",
    "    \"isAnisotropic\": False,\n",
    "    \"boundary_phases\": [1,1,1,1]})\n",
    "\n",
    "w = lambda x: torch.tensor(lattice2ndarray(w_gpt(ndarray2lattice(x.numpy(), U_gpt[0].grid, g.vspincolor))))"
   ]
  },
  {
   "cell_type": "code",
   "execution_count": 4,
   "id": "4828a969-393d-45f2-8100-88a6b10c4d2e",
   "metadata": {},
   "outputs": [],
   "source": [
    "def complex_mse_loss(output, target):\n",
    "    err = (output - target)\n",
    "    return (err * err.conj()).real.sum()\n",
    "\n",
    "def l2norm(v):\n",
    "    return (v * v.conj()).real.sum()\n"
   ]
  },
  {
   "cell_type": "code",
   "execution_count": 5,
   "id": "cd7b35cb-52fc-4ca2-a750-3cd037ad6077",
   "metadata": {},
   "outputs": [
    {
     "data": {
      "text/plain": [
       "{'converged': True, 'k': 636, 'res': tensor(9.9245e-05, dtype=torch.float64)}"
      ]
     },
     "execution_count": 5,
     "metadata": {},
     "output_type": "execute_result"
    }
   ],
   "source": [
    "x, ret = GMRES_restarted(w, vec, vec, eps=1e-4, max_restart=500 // 20, maxiter_inner=30)\n",
    "ret"
   ]
  },
  {
   "cell_type": "code",
   "execution_count": 6,
   "id": "2122314c-4a0c-4c93-a70d-36474ee17eac",
   "metadata": {},
   "outputs": [
    {
     "data": {
      "text/plain": [
       "<All keys matched successfully>"
      ]
     },
     "execution_count": 6,
     "metadata": {},
     "output_type": "execute_result"
    }
   ],
   "source": [
    "weights_ptc1h1l = torch.load(\"ptc1h1l_start_id.pt\", weights_only=True)\n",
    "paths = [[]] + [[(mu, 1)] for mu in range(4)] + [[(mu, -1)] for mu in range(4)]\n",
    "ptc_layer = v_PTC(1, 1, paths, U)\n",
    "ptc_layer.load_state_dict(weights_ptc1h1l)"
   ]
  },
  {
   "cell_type": "code",
   "execution_count": 7,
   "id": "830c7d16-65e0-4c7a-a30a-6b54d24a4f1e",
   "metadata": {},
   "outputs": [],
   "source": [
    "layer = Smoother_PTC(U, 2)"
   ]
  },
  {
   "cell_type": "code",
   "execution_count": 8,
   "id": "3e4a5f3f-6ab8-4d92-94e5-e7caae600791",
   "metadata": {},
   "outputs": [],
   "source": [
    "idty = torch.complex(torch.tensor(np.array([[1, 0, 0, 0], [0, 1, 0, 0], [0, 0, 1, 0], [0, 0, 0, 1]]), dtype=torch.double)\n",
    "                     , torch.zeros((4,4), dtype=torch.double))\n",
    "zeros = torch.complex(torch.zeros((4,4), dtype=torch.double)\n",
    "                     , torch.zeros((4,4), dtype=torch.double))\n",
    "\n",
    "for li in layer.layers:\n",
    "    li.weights.data[:,:,:] = zeros\n",
    "    li.weights.data[:,:,0] = idty"
   ]
  },
  {
   "cell_type": "code",
   "execution_count": 9,
   "id": "e75a2d26-f79b-427c-bbb0-15113cbdb56c",
   "metadata": {},
   "outputs": [],
   "source": [
    "def iterative_uk(ukm1, b, Mh, D):\n",
    "    result = b\n",
    "    result = result - D(ukm1)\n",
    "    result = Mh(result)\n",
    "    result = ukm1 + result\n",
    "    return result\n",
    "\n",
    "def ukn(b, Mh, D, n):\n",
    "    uk = torch.zeros_like(b)\n",
    "    \n",
    "    for k in range(n):\n",
    "        uk = iterative_uk(uk, b, Mh, D)\n",
    "    return uk"
   ]
  },
  {
   "cell_type": "code",
   "execution_count": null,
   "id": "de5b5b2c-b327-4398-82b3-62a927a17b11",
   "metadata": {},
   "outputs": [
    {
     "name": "stderr",
     "output_type": "stream",
     "text": [
      "W0731 17:16:43.679000 140514623035200 torch/_dynamo/convert_frame.py:762] [5/8] torch._dynamo hit config.cache_size_limit (8)\n",
      "W0731 17:16:43.679000 140514623035200 torch/_dynamo/convert_frame.py:762] [5/8]    function: 'v_ng_evaluate_path' (/home/knd35666/physics/ML/lattice_ML/reimplement_pytorch/qcd_ml/src/qcd_ml/base/paths.py:26)\n",
      "W0731 17:16:43.679000 140514623035200 torch/_dynamo/convert_frame.py:762] [5/8]    last reason: GLOBAL_STATE changed: grad_mode \n",
      "W0731 17:16:43.679000 140514623035200 torch/_dynamo/convert_frame.py:762] [5/8] To log all recompilation reasons, use TORCH_LOGS=\"recompiles\".\n",
      "W0731 17:16:43.679000 140514623035200 torch/_dynamo/convert_frame.py:762] [5/8] To diagnose recompilation issues, see https://pytorch.org/docs/main/torch.compiler_troubleshooting.html.\n"
     ]
    },
    {
     "name": "stdout",
     "output_type": "stream",
     "text": [
      "G [   10|  1.00%] <2.931e-04|   -1>\r"
     ]
    }
   ],
   "source": [
    "optimizer = torch.optim.Adam(layer.parameters(), lr=1e-2)\n",
    "zero = torch.zeros_like(vec)\n",
    "\n",
    "n_training = 1000\n",
    "check_every = 10\n",
    "\n",
    "loss = np.zeros(n_training)\n",
    "iterations_p = np.zeros(n_training // check_every)\n",
    "ret_p = {\"k\": -1}\n",
    "\n",
    "for t in range(1, n_training+1):\n",
    "    vec = torch.randn(8, 8, 8, 16, 4, 3, dtype=torch.cdouble)\n",
    "\n",
    "    with torch.no_grad():\n",
    "        outp = torch.stack([\n",
    "            ukn(vec, lambda x: ptc_layer.forward(torch.stack([x]))[0], w, 0+2)\n",
    "        ])\n",
    "        inp = torch.stack([\n",
    "            vec, ukn(vec, lambda x: ptc_layer.forward(torch.stack([x]))[0], w, 0+0)\n",
    "        ])\n",
    "\n",
    "    scale = l2norm(inp[0])\n",
    "    inp = inp / scale\n",
    "    outp = outp / scale\n",
    "    \n",
    "    score = complex_mse_loss(layer.forward(inp), outp)\n",
    "    print(f\"T [{t:5d}|{t / n_training * 100:6.2f}%] <{score.item():.3e}|{ret_p['k']:5d}>\", end=\"\\r\")\n",
    "    loss[t-1] = score.item()\n",
    "    optimizer.zero_grad()\n",
    "    score.backward()\n",
    "    optimizer.step()\n",
    "    if t % check_every == 0:\n",
    "        print(f\"G [{t:5d}|{t / n_training * 100:6.2f}%] <{score.item():.3e}|{ret_p['k']:5d}>\", end=\"\\r\")\n",
    "        with torch.no_grad():\n",
    "            x_p, ret_p = GMRES_restarted(w, vec, vec\n",
    "                                         , prec=lambda v: layer.forward(torch.stack([v, vec]))[0]\n",
    "                                         , eps=1e-4, max_restart=20, maxiter_inner=30)\n",
    "    \n",
    "        iterations_p[t // check_every - 1] = ret_p[\"k\"]\n",
    "    print(f\"  [{t:5d}|{t / n_training * 100:6.2f}%] <{score.item():.3e}|{ret_p['k']:5d}>\", end=\"\\r\")\n",
    "    \n",
    "print()\n",
    "plt.plot(loss)\n",
    "plt.yscale(\"log\")"
   ]
  },
  {
   "cell_type": "code",
   "execution_count": 13,
   "id": "f7e1f07b-96dd-4611-a9f7-441cfc3a8606",
   "metadata": {},
   "outputs": [
    {
     "data": {
      "text/plain": [
       "Text(0, 0.5, 'iterations required by GMRES')"
      ]
     },
     "execution_count": 13,
     "metadata": {},
     "output_type": "execute_result"
    },
    {
     "data": {
      "image/png": "[encoded data removed]",
      "text/plain": [
       "<Figure size 640x480 with 2 Axes>"
      ]
     },
     "metadata": {},
     "output_type": "display_data"
    }
   ],
   "source": [
    "plt.plot(loss, \".\")\n",
    "plt.title(\"smoother, start from Id\")\n",
    "plt.yscale(\"log\")\n",
    "plt.ylabel(\"cost\")\n",
    "plt.xlabel(\"training vector no.\")\n",
    "ax = plt.gca().twinx()\n",
    "ax.plot(np.arange(0, n_training, check_every), iterations_p, \"C1.\")\n",
    "ax.set_ylabel(\"iterations required by GMRES\")"
   ]
  },
  {
   "cell_type": "code",
   "execution_count": 14,
   "id": "421fe940-fd8c-43f3-b9b2-7c9461ead177",
   "metadata": {},
   "outputs": [
    {
     "data": {
      "text/plain": [
       "{'converged': True, 'k': 628, 'res': tensor(9.9952e-05, dtype=torch.float64)}"
      ]
     },
     "execution_count": 14,
     "metadata": {},
     "output_type": "execute_result"
    }
   ],
   "source": [
    "x, ret = GMRES_restarted(w, vec, vec, eps=1e-4, max_restart=500 // 20, maxiter_inner=30)\n",
    "ret"
   ]
  },
  {
   "cell_type": "code",
   "execution_count": 15,
   "id": "d9920557-e2f7-4783-bca9-81b6d3626f01",
   "metadata": {},
   "outputs": [
    {
     "data": {
      "text/plain": [
       "{'converged': True, 'k': 628, 'res': tensor(9.9952e-05, dtype=torch.float64)}"
      ]
     },
     "execution_count": 15,
     "metadata": {},
     "output_type": "execute_result"
    }
   ],
   "source": [
    "with torch.no_grad():\n",
    "    x_p, ret_p = GMRES_restarted(w, vec, vec, eps=1e-4, max_restart=500 // 20, maxiter_inner=30, prec=lambda v: layer.forward(torch.stack([v, vec]))[0])"
   ]
  },
  {
   "cell_type": "code",
   "execution_count": 16,
   "id": "995920f6-fc13-4a1a-a0b7-7abda50a5d54",
   "metadata": {},
   "outputs": [
    {
     "data": {
      "text/plain": [
       "{'converged': True, 'k': 154, 'res': tensor(9.9420e-05, dtype=torch.float64)}"
      ]
     },
     "execution_count": 16,
     "metadata": {},
     "output_type": "execute_result"
    }
   ],
   "source": [
    "ret_p"
   ]
  },
  {
   "cell_type": "code",
   "execution_count": 17,
   "id": "9e60454c-99a2-4385-bbd5-a66c0e853b38",
   "metadata": {},
   "outputs": [
    {
     "data": {
      "text/plain": [
       "4.077922077922078"
      ]
     },
     "execution_count": 17,
     "metadata": {},
     "output_type": "execute_result"
    }
   ],
   "source": [
    "ret[\"k\"] / ret_p[\"k\"]"
   ]
  },
  {
   "cell_type": "code",
   "execution_count": null,
   "id": "772ea2cf-e147-4591-a42a-df508594d716",
   "metadata": {},
   "outputs": [],
   "source": []
  },
  {
   "cell_type": "code",
   "execution_count": null,
   "id": "7db095cc-40c9-47e0-8479-188159c882da",
   "metadata": {},
   "outputs": [],
   "source": []
  },
  {
   "cell_type": "code",
   "execution_count": 18,
   "id": "39584850-b520-4cb6-a279-58663899cf1f",
   "metadata": {},
   "outputs": [],
   "source": [
    "torch.save(layer.state_dict(), \"smoother_start_id.pt\")"
   ]
  },
  {
   "cell_type": "code",
   "execution_count": null,
   "id": "e4a1b957-9c74-4b72-bfd3-147067188883",
   "metadata": {},
   "outputs": [],
   "source": []
  }
 ],
 "metadata": {
  "kernelspec": {
   "display_name": "Python 3 (ipykernel)",
   "language": "python",
   "name": "python3"
  },
  "language_info": {
   "codemirror_mode": {
    "name": "ipython",
    "version": 3
   },
   "file_extension": ".py",
   "mimetype": "text/x-python",
   "name": "python",
   "nbconvert_exporter": "python",
   "pygments_lexer": "ipython3",
   "version": "3.12.4"
  }
 },
 "nbformat": 4,
 "nbformat_minor": 5
}
